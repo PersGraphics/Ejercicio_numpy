{
  "nbformat": 4,
  "nbformat_minor": 0,
  "metadata": {
    "colab": {
      "provenance": [],
      "collapsed_sections": [],
      "authorship_tag": "ABX9TyOdalytyGFNwhPMb2llng2F",
      "include_colab_link": true
    },
    "kernelspec": {
      "name": "python3",
      "display_name": "Python 3"
    },
    "language_info": {
      "name": "python"
    }
  },
  "cells": [
    {
      "cell_type": "markdown",
      "metadata": {
        "id": "view-in-github",
        "colab_type": "text"
      },
      "source": [
        "<a href=\"https://colab.research.google.com/github/PersGraphics/Ejercicio_numpy/blob/main/Ejercicio_Numpy.ipynb\" target=\"_parent\"><img src=\"https://colab.research.google.com/assets/colab-badge.svg\" alt=\"Open In Colab\"/></a>"
      ]
    },
    {
      "cell_type": "markdown",
      "source": [
        "## Ejercicio NumPy\n",
        "Crea una clase en Python con la que sea cómodo trabajar con imágenes utilizando NumPy.\n",
        "Agrégale a la clase los métodos que consideres que puedan resultar útiles a la hora de\n",
        "operar con imágenes. Algunos métodos con los que debe contar la clase son:\n"
      ],
      "metadata": {
        "id": "rDNUQZWDT29w"
      }
    },
    {
      "cell_type": "code",
      "execution_count": null,
      "metadata": {
        "id": "Y7QVXkqo7VAD",
        "colab": {
          "base_uri": "https://localhost:8080/",
          "height": 317
        },
        "outputId": "c412ab59-e2ea-44a7-9f50-e1aed1135fc5"
      },
      "outputs": [
        {
          "output_type": "execute_result",
          "data": {
            "text/plain": [
              "<PIL.Image.Image image mode=RGB size=300x300 at 0x7F9B15A2FAD0>"
            ],
            "image/png": "[encoded data removed]"
          },
          "metadata": {},
          "execution_count": 272
        }
      ],
      "source": [
        "# CLASE Imagen\n",
        "\n",
        "from PIL import Image\n",
        "import numpy as np\n",
        "from random import randint\n",
        "\n",
        "class Imagen:\n",
        "  def __init__(self, r=100 , g = 50, b= 130, height= 100, width = 120):\n",
        "    self._r = r\n",
        "    self._g = g\n",
        "    self._b = b\n",
        "    self._height = height\n",
        "    self._width = width\n",
        "\n",
        "  def create_Image(self):\n",
        "    image = Image.new('RGB', (self._height, self._width))\n",
        "    for x in range(0, image.size[0]): # eje de ordenadas\n",
        "      for y in range(0, image.size[1]): # eje de abcisas\n",
        "        image.putpixel((x, y), (self._r, self._g, self._b)) # en el pixel x e y, poner el color 255,0,0)\n",
        "    \n",
        "    return image\n",
        "\n",
        "  def squared_image(size = 100, image = True, elements= 6, height= 50, width=50):\n",
        "  \n",
        "    r=randint(0, 255)\n",
        "    g=randint(0, 255)\n",
        "    b=randint(0, 255)\n",
        "\n",
        "    coordenadasx=0\n",
        "    coordenadasy=0\n",
        "    image = Image.new('RGB', (height*elements, width*elements))   \n",
        "    \n",
        "    for i in range(elements):\n",
        "      r=randint(0, 255)\n",
        "      g=randint(0, 255)\n",
        "      b=randint(0, 255)\n",
        "\n",
        "      for x in range(coordenadasx, int(width+coordenadasx)): # eje de ordenadas\n",
        "        for y in range(0, int(image.size[1]/elements)): # eje de abcisas\n",
        "          image.putpixel((x, y), (r, g, b)) \n",
        "      \n",
        "    coordenadasx=coordenadasx + 45\n",
        "    coordenadasy=coordenadasy+ 40\n",
        "\n",
        "    # X> WIDTH\n",
        "    # Y> /8\n",
        "\n",
        "    return image\n",
        "\n",
        "\n",
        "   \n",
        "\n",
        "\n",
        "\n",
        "  '''def random_image(height, width):\n",
        "      img = Image.new('RGB', (height, width))\n",
        "      \n",
        "      r=randint(0, 255)\n",
        "      g=randint(0, 255)\n",
        "      b=randint(0, 255)\n",
        "\n",
        "      for x in range(0, height):\n",
        "        for y in range(0, width):\n",
        "          img.putpixel((x,y), (r, g, b))\n",
        "      return img'''\n",
        "\n",
        "showImage1A = Imagen.squared_image()\n",
        "showImage1A"
      ]
    },
    {
      "cell_type": "code",
      "source": [],
      "metadata": {
        "id": "7LpZ3D4V7EMj"
      },
      "execution_count": null,
      "outputs": []
    },
    {
      "cell_type": "code",
      "source": [
        "  \n",
        "    '''  for x in range(0, image.size[0]):\n",
        "        for y in range(0, image.size[1]): \n",
        "          #image.putpixel((x, y), (color[0], color[1], color[2]))\n",
        "          \n",
        "          \n",
        "data = np.zeros(height, width, 3), dtype <0 np.uint8'''\n",
        "  \n",
        "  \n",
        "  ''' lista=Imagen.random_image(height*elements, width*elements)\n",
        "      \n",
        "      data = np.zeros((size, size, 3), dtype = np.uint8 )\n",
        "      for x in range(0, data.shape[0]):\n",
        "        for y in range(0, data.shape[1]):\n",
        "          if x < size / 2 and y < size / 2:\n",
        "            color = (0, 0, 0)\n",
        "          elif x >= size / 2 and y < size / 2:\n",
        "            color = (255, 0, 127)\n",
        "          elif x < size / 2 and y >= size / 2:\n",
        "            color = (127, 127, 127)\n",
        "          else:\n",
        "            color = (127, 0, 255)\n",
        "          data[x, y] = color\n",
        "      if image:\n",
        "        return Image.fromarray(data)\n",
        "      else:\n",
        "        return data\n",
        "      return lista'''"
      ],
      "metadata": {
        "id": "n4lN0gbYi_xQ"
      },
      "execution_count": null,
      "outputs": []
    },
    {
      "cell_type": "markdown",
      "source": [
        "**a) Implementa un método al que se le pase el ancho y el alto de la imagen y el color de la misma. El método debe devolver la imagen creada.**\n"
      ],
      "metadata": {
        "id": "5yY7cfZKU3K-"
      }
    },
    {
      "cell_type": "code",
      "source": [
        "\n",
        "\n",
        "'''**b) Implementa un método al que se le pasa el número de elementos horizontales y\n",
        "verticales, así como el ancho y el alto de los elementos horizontales y verticales y que\n",
        "devuelva la imagen creada con un color de fondo diferente para cada elemento.**'''\n",
        "\n",
        "\n",
        "'''image2A = Imagen()\n",
        "img = Imagen.random_image(image2A)\n",
        "\n",
        "img\n",
        "\n",
        "# Apartado B\n",
        "image1A = Imagen()\n",
        "\n",
        "\n",
        "showImage1A = Imagen.squared_image(image1A)\n",
        "showImage1A'''\n",
        "\n",
        "\n",
        "# Apartado A\n",
        "image1A = Imagen()\n",
        "showImage1A = Imagen.create_Image(image1A)\n",
        "showImage1A"
      ],
      "metadata": {
        "colab": {
          "base_uri": "https://localhost:8080/",
          "height": 137
        },
        "id": "uv8DeGFfUsDY",
        "outputId": "d757b0c7-dae9-4f14-abc7-f424d2f712ef"
      },
      "execution_count": null,
      "outputs": [
        {
          "output_type": "execute_result",
          "data": {
            "text/plain": [
              "<PIL.Image.Image image mode=RGB size=100x120 at 0x7F9B15E1F310>"
            ],
            "image/png": "[encoded data removed]"
          },
          "metadata": {},
          "execution_count": 88
        }
      ]
    },
    {
      "cell_type": "markdown",
      "source": [
        "**b) Implementa un método al que se le pasa el número de elementos horizontales y\n",
        "verticales, así como el ancho y el alto de los elementos horizontales y verticales y que\n",
        "devuelva la imagen creada con un color de fondo diferente para cada elemento.**"
      ],
      "metadata": {
        "id": "GTDH3QXMU8Mt"
      }
    },
    {
      "cell_type": "code",
      "source": [
        "\n",
        "# Apartado B\n",
        "image2B = Imagen()\n",
        "showImage2B = Imagen.create_Image(image2B)\n",
        "showImage2B"
      ],
      "metadata": {
        "id": "aQzhuxAX6OWI"
      },
      "execution_count": null,
      "outputs": []
    },
    {
      "cell_type": "markdown",
      "source": [
        "**c) Implementa un método que redimensiona una imagen al ancho y alto especificado, este\n",
        "método deforma la imagen si la relación de aspecto no es la misma.**\n"
      ],
      "metadata": {
        "id": "UgojwAu2o-kx"
      }
    },
    {
      "cell_type": "code",
      "source": [],
      "metadata": {
        "id": "-gFBnphlpH4o"
      },
      "execution_count": null,
      "outputs": []
    },
    {
      "cell_type": "markdown",
      "source": [
        "**d) Implementa un método que redimensiona una imagen al ancho especificado, sin\n",
        "deformar la imagen.**"
      ],
      "metadata": {
        "id": "GGf-ob8MpJuP"
      }
    },
    {
      "cell_type": "code",
      "source": [],
      "metadata": {
        "id": "pXkXBLiFpKNg"
      },
      "execution_count": null,
      "outputs": []
    }
  ]
}